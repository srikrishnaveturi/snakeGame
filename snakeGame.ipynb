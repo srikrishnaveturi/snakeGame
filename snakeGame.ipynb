{
 "cells": [
  {
   "cell_type": "code",
   "execution_count": 113,
   "metadata": {},
   "outputs": [],
   "source": [
    "#importing all the required libraries\n",
    "import numpy as np\n",
    "import cv2 \n",
    "import random \n",
    "import time\n",
    "# Create a black image\n",
    "img = np.zeros((300,300,3), np.uint8)"
   ]
  },
  {
   "cell_type": "code",
   "execution_count": 114,
   "metadata": {},
   "outputs": [],
   "source": [
    "#the frame is divided into 20 boxes of 15 px rows and columns\n",
    "global snakeList\n",
    "xBlock = random.randint(0,19)\n",
    "yBlock = random.randint(0,19)\n",
    "x1 = xBlock * 15\n",
    "y1 = yBlock * 15\n",
    "snakeList = [[x1,y1]] #this list contains all the blocks that are accupied by the snake"
   ]
  },
  {
   "cell_type": "code",
   "execution_count": 115,
   "metadata": {},
   "outputs": [],
   "source": [
    "def treatSpawn():\n",
    "    treatBlock = random.randint(0,19)\n",
    "    treatBlock = random.randint(0,19)\n",
    "    while([xBlock,yBlock] in snakeList):\n",
    "        treatBlock = random.randint(0,19)\n",
    "        treatBlock = random.randint(0,19)\n",
    "    treatX1 = treatBlock * 15\n",
    "    treatY1 = treatBlock * 15\n",
    "    return treatX1,treatY1"
   ]
  },
  {
   "cell_type": "code",
   "execution_count": 116,
   "metadata": {},
   "outputs": [],
   "source": [
    "def move(direction):\n",
    "    global snakeList\n",
    "    for i in range(1,len(snakeList)):\n",
    "        snakeList[len(snakeList)-i][1] = snakeList[len(snakeList)-i-1][1]\n",
    "        snakeList[len(snakeList)-i][0] = snakeList[len(snakeList)-i-1][0]\n",
    "    if direction == \"up\":\n",
    "        snakeList[0][1]-=15\n",
    "    elif direction == \"down\":\n",
    "        snakeList[0][1]+=15\n",
    "    elif direction == \"left\":\n",
    "        snakeList[0][0]-=15\n",
    "    elif direction == \"right\":\n",
    "        snakeList[0][0]+=15"
   ]
  },
  {
   "cell_type": "code",
   "execution_count": null,
   "metadata": {},
   "outputs": [
    {
     "name": "stdout",
     "output_type": "stream",
     "text": [
      "score = 1\n",
      "score = 2\n",
      "score = 3\n",
      "score = 4\n",
      "score = 5\n",
      "score = 6\n",
      "score = 7\n",
      "score = 8\n",
      "score = 9\n",
      "score = 10\n",
      "score = 11\n",
      "score = 12\n",
      "score = 13\n"
     ]
    }
   ],
   "source": [
    "global snakeList\n",
    "dir = ' '\n",
    "score = 0\n",
    "treatX1,treatY1 = treatSpawn()\n",
    "while True:\n",
    "    cv2.imshow(\"image\",img)\n",
    "    img = np.zeros((300,300,3), np.uint8)\n",
    "    cv2.rectangle(img,(treatX1, treatY1), (treatX1+15, treatY1+15), (0, 255, 255), -1)\n",
    "    for i in range(len(snakeList)):\n",
    "            cv2.rectangle(img,(snakeList[i][0], snakeList[i][1]), (snakeList[i][0]+15, snakeList[i][1]+15), (255, 255, 255), -1)\n",
    "    key = cv2.waitKeyEx(1)\n",
    "    if key == 27 or snakeList[0][0] < 0 or snakeList[0][0] + 15 > 300 or snakeList[0][1] < 0 or snakeList[0][1] + 15 > 300:\n",
    "        cv2.destroyAllWindows()\n",
    "        print(\"game over\")\n",
    "        print(\"Final score = {}\".format(score))\n",
    "        break\n",
    "    elif key == 2490368:\n",
    "        #print(\"UP\")\n",
    "        dir = 'up'\n",
    "    elif key == 2621440:\n",
    "        #print(\"DOWN\")\n",
    "        dir = 'down'\n",
    "    elif key == 2424832:\n",
    "        #print(\"LEFT\")\n",
    "        dir = 'left'\n",
    "    elif key == 2555904:\n",
    "        #print(\"RIGHT\")\n",
    "        dir = 'right' \n",
    "    if snakeList[0][0] == treatX1 and snakeList[0][1] == treatY1:\n",
    "        score+=1\n",
    "        print(\"score = {}\".format(score))\n",
    "        snakeList.append([treatX1,treatY1])\n",
    "        treatX1,treatY1 = treatSpawn()\n",
    "    if dir != ' ':\n",
    "        move(dir)\n",
    "    if len(snakeList) > 1:\n",
    "        if snakeList[0] in snakeList[1:]:\n",
    "            cv2.destroyAllWindows()\n",
    "            print(\"game over\")\n",
    "            print(\"final score = {}\".format(score))\n",
    "            break\n",
    "    time.sleep(0.2)"
   ]
  }
 ],
 "metadata": {
  "kernelspec": {
   "display_name": "Python 3",
   "language": "python",
   "name": "python3"
  },
  "language_info": {
   "codemirror_mode": {
    "name": "ipython",
    "version": 3
   },
   "file_extension": ".py",
   "mimetype": "text/x-python",
   "name": "python",
   "nbconvert_exporter": "python",
   "pygments_lexer": "ipython3",
   "version": "3.7.7"
  }
 },
 "nbformat": 4,
 "nbformat_minor": 4
}
